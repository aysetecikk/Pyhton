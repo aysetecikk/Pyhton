{
  "nbformat": 4,
  "nbformat_minor": 0,
  "metadata": {
    "colab": {
      "provenance": []
    },
    "kernelspec": {
      "name": "python3",
      "display_name": "Python 3"
    },
    "language_info": {
      "name": "python"
    }
  },
  "cells": [
    {
      "cell_type": "markdown",
      "source": [
        "Ödev-1: Kullanıcıdan maaş bilgisini istenir ve bu bilgiye göre maaşından ne kadar vergi kesileceğini hesaplanır. Kullanıcının geliri;\n",
        "\n",
        "\n",
        " 10000 ve altındaysa maaşından %5 kesinti olur.\n",
        " 25000 ve altındaysa maaşından %10 kesinti olur.\n",
        " 45000 ve altındaysa maaşından %25 kesinti olur.\n",
        " Diğer koşullarda %30 kesinti olur.\n",
        "\n",
        "Bu durumlara göre kullanıcının yeni maaşı yazdırılır.\n",
        "\n",
        "\n",
        "Ödev-2: Kullanıcıdan kullanıcı adı ve şifre oluşturmasını istenir. Şifrenin uzunluğu altı haneye ulaşmışsa hesabınız oluşturuldu mesajı alınır, altı haneden azsa altı haneli şifre oluşturması gerektiğinin mesajı alınır. (Sadece koşul kullanılması yeterli.)\n",
        "\n",
        "\n",
        "Ödev-3: Bir önceki örnek geliştirilir.\n",
        "\n",
        "\n",
        " Kullanıcı girdiği şifre 5 ve 10 hane arasında olmak zorunda.\n",
        " Eğer bu koşula uyuyorsa \"Hesabınız oluşturuldu.\" mesajı alır.\n",
        " Koşulu sağlamıyorsa \"Lütfen girdiniz şifre 5 haneden az 10 haneden fazla olmasın!\" uyarısı alır.\n",
        " Bunu oluştururken kullanıcı istediğimiz şartlarda şifre oluşturana kadar sormaya devam eder\n",
        "\n",
        "Ödev-4: Kullanıcıdan isim ve şifre isteyeceğiz ve şifre girişi için üç hak verilir.\n",
        "\n",
        "\n",
        " Eğer önceden tanımlı şifre ile kullanıcıdan gelen şifre aynıysa \"Giriş yapıldı.\" yazar.\n",
        " Şifre girişi yanlışsa \"Yanlış şifre girildi!\" uyarısı verilsin ve üç yanlış denemede program biter.\n",
        " Tercihe göre kalan hak bilgisi verilir."
      ],
      "metadata": {
        "id": "q0zvGnggakGK"
      }
    },
    {
      "cell_type": "code",
      "source": [
        "\n",
        "# Ödev-1: Kullanıcıdan maaş bilgisini istenir ve\n",
        "# bu bilgiye göre maaşından ne kadar vergi kesileceğini hesaplanır.\n",
        "# Kullanıcının geliri;\n",
        "\n",
        "# 10000 ve altındaysa maaşından %5 kesinti olur.\n",
        "# 25000 ve altındaysa maaşından %10 kesinti olur.\n",
        "#45000 ve altındaysa maaşından %25 kesinti olur.\n",
        "# Diğer koşullarda %30 kesinti olur. Bu durumlara göre kullanıcının yeni maaşı yazdırılır.\n",
        "\n",
        "maas = float(input(\"Maaşınızı giriniz: \"))\n",
        "\n",
        "if maas <= 10000 :\n",
        "    maas = maas - (maas * 0.05)\n",
        "    print (\" Maaşınızdan %5 oranında kesinti yapılmıştır. Kalan maaşınız= \" + str(maas))\n",
        "\n",
        "elif maas <= 25000 :\n",
        "    maas = maas - (maas * 0.1)\n",
        "    print (\" Maaşınızdan %10 oranında kesinti yapılmıştır. Kalan maaşınız= \" + str(maas))\n",
        "\n",
        "elif maas <= 45000 :\n",
        "    maas = maas - (maas * 0.25)\n",
        "    print (\" Maaşınızdan %25 oranında kesinti yapılmıştır. Kalan maaşınız= \" + str(maas))\n",
        "else :\n",
        "    maas = maas - (maas * 0.3)\n",
        "    print (\" Maaşınızdan %30 oranında kesinti yapılmıştır. Kalan maaşınız= \" + str(maas))\n",
        "\n",
        "\n"
      ],
      "metadata": {
        "id": "80U76L8vapuZ"
      },
      "execution_count": null,
      "outputs": []
    },
    {
      "cell_type": "code",
      "source": [
        "# Ödev-2: Kullanıcıdan kullanıcı adı ve şifre oluşturmasını istenir.\n",
        "# Şifrenin uzunluğu altı haneye ulaşmışsa hesabınız oluşturuldu mesajı alınır,\n",
        "# altı haneden azsa altı haneli şifre oluşturması gerektiğinin mesajı alınır.\n",
        "# (Sadece koşul kullanılması yeterli.)"
      ],
      "metadata": {
        "id": "WvIuIVLdaqOQ"
      },
      "execution_count": null,
      "outputs": []
    },
    {
      "cell_type": "code",
      "source": [
        "Kullanici_adi = input (\"Bir kullanıcı adı oluşturunuz: \")\n",
        "Sifre = input (\"Şifrenizi oluşturunuz: \")\n",
        "\n",
        "if len(sifre) >= 6:\n",
        "    print (\"Hesabınız oluşturuldu.\")\n",
        "\n",
        "else:\n",
        "    print (\"Lütfen altı haneli bir şifre oluşturunuz.\")"
      ],
      "metadata": {
        "colab": {
          "base_uri": "https://localhost:8080/"
        },
        "id": "2xnOQTz1aw-g",
        "outputId": "f01f3a39-8ed3-469d-bbaa-2a419cc2ecfd"
      },
      "execution_count": null,
      "outputs": [
        {
          "output_type": "stream",
          "name": "stdout",
          "text": [
            "Bir kullanıcı adı oluşturunuz: 54455\n",
            "Şifrenizi oluşturunuz: 4562456\n",
            "Hesabınız oluşturuldu.\n"
          ]
        }
      ]
    },
    {
      "cell_type": "code",
      "source": [
        "# Ödev-3: Bir önceki örnek geliştirilir.\n",
        "# Kullanıcı girdiği şifre 5 ve 10 hane arasında olmak zorunda.\n",
        "# Eğer bu koşula uyuyorsa \"Hesabınız oluşturuldu.\" mesajı alır. Koşulu\n",
        "# sağlamıyorsa \"Lütfen girdiniz şifre 5 haneden az 10 haneden fazla\n",
        "# olmasın!\" uyarısı alır. Bunu oluştururken kullanıcı istediğimiz\n",
        "# şartlarda şifre oluşturana kadar sormaya devam eder.\n",
        "\n",
        "Kullanici_adi = input(\"Kullanıcı adınızı giriniz: \")\n",
        "# Sifre = input(\"Şifrenizi giriniz: \") burası döngü içinde olmalı\n",
        "while True:\n",
        "    Sifre = input(\"Şifrenizi giriniz: \")\n",
        "    if len(Sifre) >= 5 and len(Sifre) <= 10:\n",
        "        print(\"Hesabınız oluşturuldu.\")\n",
        "        break\n",
        "print(\"Döngü bitti\")"
      ],
      "metadata": {
        "colab": {
          "base_uri": "https://localhost:8080/"
        },
        "id": "zEfFAF1QcAo3",
        "outputId": "2cbdcbe1-e5ae-41c8-ba6c-0b11362026eb"
      },
      "execution_count": null,
      "outputs": [
        {
          "output_type": "stream",
          "name": "stdout",
          "text": [
            "Kullanıcı adınızı giriniz: 545\n",
            "Şifrenizi giriniz: 545\n",
            "Şifrenizi giriniz: 5454\n",
            "Şifrenizi giriniz: 545454\n",
            "Hesabınız oluşturuldu.\n",
            "Döngü bitti\n"
          ]
        }
      ]
    },
    {
      "cell_type": "code",
      "source": [
        "# Ödev-4: Kullanıcıdan isim ve şifre isteyeceğiz ve şifre girişi için üç hak verilir.\n",
        "\n",
        "# Eğer önceden tanımlı şifre ile kullanıcıdan gelen şifre aynıysa \"Giriş yapıldı.\" yazar.\n",
        "# Şifre girişi yanlışsa \"Yanlış şifre girildi!\" uyarısı verilsin\n",
        "# ve üç yanlış denemede program biter. Tercihe göre kalan hak bilgisi verilir.\n",
        "\n",
        "Kullanicinin_adi = input (\"Kullanıcı adınızı giriniz: \")\n",
        "dogru_sifre = \"12345\"\n",
        "deneme = 3\n",
        "while deneme > 0:\n",
        "    sifre = input (\"Şifrenizi giriniz: \" )\n",
        "    if sifre == dogru_sifre:\n",
        "        print(\"Giriş yapıldı.\")\n",
        "        print(\"Program sonlandırıldı.\")\n",
        "        break\n",
        "    else:\n",
        "        deneme = deneme - 1\n",
        "        print(\"Yanlış şifre girildi!\")\n",
        "        print(\"Kalan deneme hakkınız: \"  + str(deneme))\n",
        "        if deneme == 0:\n",
        "            print(\"Deneme hakkınız bitti.\")\n",
        "            print(\"Program sonlandırıldı.\")\n",
        "            break"
      ],
      "metadata": {
        "colab": {
          "base_uri": "https://localhost:8080/"
        },
        "id": "__kj5yD0gi8K",
        "outputId": "b998246c-4998-492e-d300-bc984e228b73"
      },
      "execution_count": null,
      "outputs": [
        {
          "output_type": "stream",
          "name": "stdout",
          "text": [
            "Kullanıcı adınızı giriniz: 5646\n",
            "Şifrenizi giriniz: 12345\n",
            "Giriş yapıldı.\n",
            "Program sonlandırıldı.\n"
          ]
        }
      ]
    }
  ]
}